{
  "nbformat": 4,
  "nbformat_minor": 0,
  "metadata": {
    "colab": {
      "name": "Alba 4th model.ipynb",
      "provenance": []
    },
    "kernelspec": {
      "name": "python3",
      "display_name": "Python 3"
    },
    "accelerator": "GPU"
  },
  "cells": [
    {
      "cell_type": "markdown",
      "metadata": {
        "id": "HdQ8olEZPgK5",
        "colab_type": "text"
      },
      "source": [
        "# MINI-\"KAGGEL\" COMPETITION WITHIN The Bridge\n",
        "Using the CIFAR-10 dataset and CNN and DNN let's try to get the maximun accuracy!! Leavin the test_data UNTOUCH is the only rule and we have 24 hours. Let's CODE!!"
      ]
    },
    {
      "cell_type": "code",
      "metadata": {
        "id": "_JQS1RSKGJ_O",
        "colab_type": "code",
        "colab": {
          "base_uri": "https://localhost:8080/",
          "height": 34
        },
        "outputId": "16022f74-781c-4a7f-880a-17ca3db6efd5"
      },
      "source": [
        "import keras\n",
        "from keras.datasets import cifar10\n",
        "from tensorflow.keras.utils import to_categorical\n",
        "from keras.applications import VGG19\n",
        "from keras import models, layers, optimizers\n",
        "from keras.preprocessing.image import ImageDataGenerator"
      ],
      "execution_count": 1,
      "outputs": [
        {
          "output_type": "stream",
          "text": [
            "Using TensorFlow backend.\n"
          ],
          "name": "stderr"
        }
      ]
    },
    {
      "cell_type": "code",
      "metadata": {
        "id": "09moPz2hP35D",
        "colab_type": "code",
        "colab": {}
      },
      "source": [
        "#load of the dataset\n",
        "(train_X, train_y), (test_X, test_y) = cifar10.load_data() \n",
        "\n",
        "#normalization of data from dataset\n",
        "train_X_norm = train_X.astype('float32')/ 255.0 \n",
        "test_X_norm = test_X.astype('float32')/ 255.0\n",
        "\n",
        "#we transform the labels to categoricals so we can work better with them\n",
        "train_y = to_categorical(train_y) \n",
        "test_y = to_categorical(test_y)"
      ],
      "execution_count": 2,
      "outputs": []
    },
    {
      "cell_type": "code",
      "metadata": {
        "id": "FRjXn9I_P4ji",
        "colab_type": "code",
        "colab": {}
      },
      "source": [
        "#import of VGG19 model\n",
        "net = VGG19(weights = 'imagenet', \n",
        "            include_top = False, \n",
        "            input_shape = (32, 32, 3),)"
      ],
      "execution_count": 3,
      "outputs": []
    },
    {
      "cell_type": "code",
      "metadata": {
        "id": "juiBdDh4P5PA",
        "colab_type": "code",
        "colab": {}
      },
      "source": [
        "#now we'll generate more images with the function ImageDataGenerator() [extracted from: https://keras.io/api/preprocessing/image/]\n",
        "datagen = ImageDataGenerator(\n",
        "    featurewise_center=True,\n",
        "    featurewise_std_normalization=True,\n",
        "    rotation_range=20,\n",
        "    width_shift_range=0.2,\n",
        "    height_shift_range=0.2,\n",
        "    horizontal_flip=True)\n",
        "\n",
        "datagen.fit(train_X_norm)"
      ],
      "execution_count": 4,
      "outputs": []
    },
    {
      "cell_type": "code",
      "metadata": {
        "id": "DJvSD8ejP5TW",
        "colab_type": "code",
        "colab": {}
      },
      "source": [
        "model4 = models.Sequential()\n",
        "model4.add(net)\n",
        "model4.add(layers.Flatten())\n",
        "model4.add(layers.Dense(100, activation = 'relu'))\n",
        "model4.add(layers.Dense(10, activation='softmax'))"
      ],
      "execution_count": 5,
      "outputs": []
    },
    {
      "cell_type": "code",
      "metadata": {
        "id": "9bRC6_aiP5Yk",
        "colab_type": "code",
        "colab": {
          "base_uri": "https://localhost:8080/",
          "height": 298
        },
        "outputId": "326cb114-d5a8-4e92-8131-e9eb931ddd97"
      },
      "source": [
        "model4.summary()"
      ],
      "execution_count": 6,
      "outputs": [
        {
          "output_type": "stream",
          "text": [
            "Model: \"sequential_1\"\n",
            "_________________________________________________________________\n",
            "Layer (type)                 Output Shape              Param #   \n",
            "=================================================================\n",
            "vgg19 (Model)                (None, 1, 1, 512)         20024384  \n",
            "_________________________________________________________________\n",
            "flatten_1 (Flatten)          (None, 512)               0         \n",
            "_________________________________________________________________\n",
            "dense_1 (Dense)              (None, 100)               51300     \n",
            "_________________________________________________________________\n",
            "dense_2 (Dense)              (None, 10)                1010      \n",
            "=================================================================\n",
            "Total params: 20,076,694\n",
            "Trainable params: 20,076,694\n",
            "Non-trainable params: 0\n",
            "_________________________________________________________________\n"
          ],
          "name": "stdout"
        }
      ]
    },
    {
      "cell_type": "code",
      "metadata": {
        "id": "8VrrqgHKT54V",
        "colab_type": "code",
        "colab": {}
      },
      "source": [
        "model4.compile(optimizer=optimizers.RMSprop(lr = 2e-5),\n",
        "              loss = 'categorical_crossentropy',\n",
        "              metrics = ['acc'])"
      ],
      "execution_count": 7,
      "outputs": []
    },
    {
      "cell_type": "code",
      "metadata": {
        "id": "Sd2zScxuVYo_",
        "colab_type": "code",
        "colab": {
          "base_uri": "https://localhost:8080/",
          "height": 210
        },
        "outputId": "e0c01e68-6e1d-4874-bc88-3cca0bc613bc"
      },
      "source": [
        "model4.fit(datagen.flow(train_X_norm, train_y, batch_size=32), epochs = 5, validation_data = (test_X_norm, test_y))"
      ],
      "execution_count": 8,
      "outputs": [
        {
          "output_type": "stream",
          "text": [
            "Epoch 1/5\n",
            "1563/1563 [==============================] - 152s 97ms/step - loss: 1.0844 - acc: 0.6204 - val_loss: 1.4402 - val_acc: 0.5250\n",
            "Epoch 2/5\n",
            "1563/1563 [==============================] - 149s 95ms/step - loss: 0.7772 - acc: 0.7308 - val_loss: 1.2030 - val_acc: 0.5983\n",
            "Epoch 3/5\n",
            "1563/1563 [==============================] - 148s 95ms/step - loss: 0.6781 - acc: 0.7660 - val_loss: 1.4393 - val_acc: 0.5230\n",
            "Epoch 4/5\n",
            "1563/1563 [==============================] - 148s 95ms/step - loss: 0.6190 - acc: 0.7862 - val_loss: 1.2702 - val_acc: 0.5795\n",
            "Epoch 5/5\n",
            "1563/1563 [==============================] - 148s 95ms/step - loss: 0.5766 - acc: 0.8007 - val_loss: 1.5853 - val_acc: 0.5296\n"
          ],
          "name": "stdout"
        },
        {
          "output_type": "execute_result",
          "data": {
            "text/plain": [
              "<keras.callbacks.callbacks.History at 0x7f00701a3748>"
            ]
          },
          "metadata": {
            "tags": []
          },
          "execution_count": 8
        }
      ]
    },
    {
      "cell_type": "code",
      "metadata": {
        "id": "p1dZkNZtXi-M",
        "colab_type": "code",
        "colab": {}
      },
      "source": [
        "work = VGG19(weights = 'imagenet', \n",
        "            include_top = False, \n",
        "            input_shape = (32, 32, 3),)"
      ],
      "execution_count": 9,
      "outputs": []
    },
    {
      "cell_type": "code",
      "metadata": {
        "id": "KonSY6EoXagg",
        "colab_type": "code",
        "colab": {}
      },
      "source": [
        "model5 = models.Sequential()\n",
        "model5.add(work)\n",
        "model5.add(layers.Flatten())\n",
        "model5.add(layers.Dropout(0.2))\n",
        "model5.add(layers.Dense(256, activation = 'relu'))\n",
        "model5.add(layers.Dense(100, activation = 'relu'))\n",
        "model5.add(layers.Dense(10, activation='softmax'))"
      ],
      "execution_count": 11,
      "outputs": []
    },
    {
      "cell_type": "code",
      "metadata": {
        "id": "2Fd-bzbrb_8O",
        "colab_type": "code",
        "colab": {}
      },
      "source": [
        "#we unfrozen block5 of the CNN for do the training with the data from the CIFAR-10 dataset and update the weights of the model with forward/backward propagation\n",
        "work.trainable = True\n",
        "set_trainable = False\n",
        "for layer in work.layers:\n",
        "    if layer.name == 'block5_conv1':\n",
        "        set_trainable = True\n",
        "    if set_trainable:\n",
        "        layer.trainable = True\n",
        "    else:\n",
        "        layer.trainable = False"
      ],
      "execution_count": 12,
      "outputs": []
    },
    {
      "cell_type": "code",
      "metadata": {
        "id": "GwA2DKOChyd2",
        "colab_type": "code",
        "colab": {
          "base_uri": "https://localhost:8080/",
          "height": 369
        },
        "outputId": "bd3cb5c5-77e6-4037-dad7-7ac9e0c9b808"
      },
      "source": [
        "model5.summary()"
      ],
      "execution_count": 13,
      "outputs": [
        {
          "output_type": "stream",
          "text": [
            "Model: \"sequential_3\"\n",
            "_________________________________________________________________\n",
            "Layer (type)                 Output Shape              Param #   \n",
            "=================================================================\n",
            "vgg19 (Model)                (None, 1, 1, 512)         20024384  \n",
            "_________________________________________________________________\n",
            "flatten_3 (Flatten)          (None, 512)               0         \n",
            "_________________________________________________________________\n",
            "dropout_2 (Dropout)          (None, 512)               0         \n",
            "_________________________________________________________________\n",
            "dense_3 (Dense)              (None, 256)               131328    \n",
            "_________________________________________________________________\n",
            "dense_4 (Dense)              (None, 100)               25700     \n",
            "_________________________________________________________________\n",
            "dense_5 (Dense)              (None, 10)                1010      \n",
            "=================================================================\n",
            "Total params: 20,182,422\n",
            "Trainable params: 9,597,270\n",
            "Non-trainable params: 10,585,152\n",
            "_________________________________________________________________\n"
          ],
          "name": "stdout"
        }
      ]
    },
    {
      "cell_type": "code",
      "metadata": {
        "id": "Fj6uIUQUa8b9",
        "colab_type": "code",
        "colab": {
          "base_uri": "https://localhost:8080/",
          "height": 210
        },
        "outputId": "c1008a30-2e50-4067-86b9-72ecbfe2814a"
      },
      "source": [
        "model5.compile(loss = 'categorical_crossentropy',\n",
        "              optimizer = \"rmsprop\",\n",
        "              metrics = ['acc'])\n",
        "\n",
        "hystory2 = model5.fit(train_X_norm, train_y, epochs = 5, batch_size = 100, validation_data = (test_X_norm, test_y))"
      ],
      "execution_count": 14,
      "outputs": [
        {
          "output_type": "stream",
          "text": [
            "Train on 50000 samples, validate on 10000 samples\n",
            "Epoch 1/5\n",
            "50000/50000 [==============================] - 40s 805us/step - loss: 1.6349 - acc: 0.4417 - val_loss: 1.1135 - val_acc: 0.6365\n",
            "Epoch 2/5\n",
            "50000/50000 [==============================] - 39s 783us/step - loss: 1.0725 - acc: 0.6488 - val_loss: 0.9915 - val_acc: 0.6605\n",
            "Epoch 3/5\n",
            "50000/50000 [==============================] - 39s 784us/step - loss: 0.9549 - acc: 0.6877 - val_loss: 0.9876 - val_acc: 0.6727\n",
            "Epoch 4/5\n",
            "50000/50000 [==============================] - 39s 785us/step - loss: 0.8925 - acc: 0.7093 - val_loss: 0.9232 - val_acc: 0.7123\n",
            "Epoch 5/5\n",
            "50000/50000 [==============================] - 39s 784us/step - loss: 0.8314 - acc: 0.7305 - val_loss: 0.9308 - val_acc: 0.7056\n"
          ],
          "name": "stdout"
        }
      ]
    },
    {
      "cell_type": "code",
      "metadata": {
        "id": "xG9UW2Ruqw_j",
        "colab_type": "code",
        "colab": {
          "base_uri": "https://localhost:8080/",
          "height": 404
        },
        "outputId": "205d1d86-a6d2-496e-eae5-12f6dce195fc"
      },
      "source": [
        "model6 = models.Sequential()\n",
        "model6.add(work)\n",
        "model6.add(layers.Flatten())\n",
        "model6.add(layers.Dropout(0.2))\n",
        "model6.add(layers.Dense(256, activation = 'relu'))\n",
        "model6.add(layers.Dropout(0.2))\n",
        "model6.add(layers.Dense(100, activation = 'relu'))\n",
        "model6.add(layers.Dense(10, activation='softmax'))\n",
        "\n",
        "model6.summary()"
      ],
      "execution_count": 18,
      "outputs": [
        {
          "output_type": "stream",
          "text": [
            "Model: \"sequential_6\"\n",
            "_________________________________________________________________\n",
            "Layer (type)                 Output Shape              Param #   \n",
            "=================================================================\n",
            "vgg19 (Model)                (None, 1, 1, 512)         20024384  \n",
            "_________________________________________________________________\n",
            "flatten_6 (Flatten)          (None, 512)               0         \n",
            "_________________________________________________________________\n",
            "dropout_9 (Dropout)          (None, 512)               0         \n",
            "_________________________________________________________________\n",
            "dense_13 (Dense)             (None, 256)               131328    \n",
            "_________________________________________________________________\n",
            "dropout_10 (Dropout)         (None, 256)               0         \n",
            "_________________________________________________________________\n",
            "dense_14 (Dense)             (None, 100)               25700     \n",
            "_________________________________________________________________\n",
            "dense_15 (Dense)             (None, 10)                1010      \n",
            "=================================================================\n",
            "Total params: 20,182,422\n",
            "Trainable params: 9,597,270\n",
            "Non-trainable params: 10,585,152\n",
            "_________________________________________________________________\n"
          ],
          "name": "stdout"
        }
      ]
    },
    {
      "cell_type": "code",
      "metadata": {
        "id": "C2oyM-5Pt4bN",
        "colab_type": "code",
        "colab": {}
      },
      "source": [
        "#we unfrozen block5 of the CNN for do the training with the data from the CIFAR-10 dataset and update the weights of the model with forward/backward propagation\n",
        "work.trainable = True\n",
        "set_trainable = False\n",
        "for layer in work.layers:\n",
        "    if layer.name == 'block4_conv1':\n",
        "        set_trainable = True\n",
        "    if set_trainable:\n",
        "        layer.trainable = True\n",
        "    else:\n",
        "        layer.trainable = False"
      ],
      "execution_count": null,
      "outputs": []
    },
    {
      "cell_type": "code",
      "metadata": {
        "id": "kzHc9Jk-t7SA",
        "colab_type": "code",
        "colab": {
          "base_uri": "https://localhost:8080/",
          "height": 404
        },
        "outputId": "4348462d-1d63-4327-8792-5d1271a55cb6"
      },
      "source": [
        "model6.summary()"
      ],
      "execution_count": 19,
      "outputs": [
        {
          "output_type": "stream",
          "text": [
            "Model: \"sequential_6\"\n",
            "_________________________________________________________________\n",
            "Layer (type)                 Output Shape              Param #   \n",
            "=================================================================\n",
            "vgg19 (Model)                (None, 1, 1, 512)         20024384  \n",
            "_________________________________________________________________\n",
            "flatten_6 (Flatten)          (None, 512)               0         \n",
            "_________________________________________________________________\n",
            "dropout_9 (Dropout)          (None, 512)               0         \n",
            "_________________________________________________________________\n",
            "dense_13 (Dense)             (None, 256)               131328    \n",
            "_________________________________________________________________\n",
            "dropout_10 (Dropout)         (None, 256)               0         \n",
            "_________________________________________________________________\n",
            "dense_14 (Dense)             (None, 100)               25700     \n",
            "_________________________________________________________________\n",
            "dense_15 (Dense)             (None, 10)                1010      \n",
            "=================================================================\n",
            "Total params: 20,182,422\n",
            "Trainable params: 9,597,270\n",
            "Non-trainable params: 10,585,152\n",
            "_________________________________________________________________\n"
          ],
          "name": "stdout"
        }
      ]
    },
    {
      "cell_type": "code",
      "metadata": {
        "id": "wX6iBntArZMH",
        "colab_type": "code",
        "colab": {
          "base_uri": "https://localhost:8080/",
          "height": 386
        },
        "outputId": "4e5c6296-7ba5-4f63-f162-5ee1032fe74e"
      },
      "source": [
        "model6.compile(loss = 'categorical_crossentropy',\n",
        "              optimizer = \"rmsprop\",\n",
        "              metrics = ['acc'])\n",
        "\n",
        "hystory2 = model6.fit(train_X_norm, train_y, epochs = 10, batch_size = 100, validation_data = (test_X_norm, test_y))"
      ],
      "execution_count": 20,
      "outputs": [
        {
          "output_type": "stream",
          "text": [
            "Train on 50000 samples, validate on 10000 samples\n",
            "Epoch 1/10\n",
            "50000/50000 [==============================] - 40s 793us/step - loss: 0.7673 - acc: 0.8006 - val_loss: 1.1013 - val_acc: 0.7206\n",
            "Epoch 2/10\n",
            "50000/50000 [==============================] - 39s 782us/step - loss: 0.5604 - acc: 0.8340 - val_loss: 1.0687 - val_acc: 0.7335\n",
            "Epoch 3/10\n",
            "50000/50000 [==============================] - 39s 786us/step - loss: 0.5456 - acc: 0.8381 - val_loss: 1.1755 - val_acc: 0.7304\n",
            "Epoch 4/10\n",
            "50000/50000 [==============================] - 39s 787us/step - loss: 0.5623 - acc: 0.8442 - val_loss: 1.5580 - val_acc: 0.7493\n",
            "Epoch 5/10\n",
            "50000/50000 [==============================] - 39s 789us/step - loss: 0.5705 - acc: 0.8484 - val_loss: 1.6236 - val_acc: 0.7324\n",
            "Epoch 6/10\n",
            "50000/50000 [==============================] - 39s 787us/step - loss: 0.5535 - acc: 0.8531 - val_loss: 1.7244 - val_acc: 0.7250\n",
            "Epoch 7/10\n",
            "50000/50000 [==============================] - 39s 787us/step - loss: 0.5487 - acc: 0.8511 - val_loss: 1.2743 - val_acc: 0.7392\n",
            "Epoch 8/10\n",
            "50000/50000 [==============================] - 39s 787us/step - loss: 0.5619 - acc: 0.8557 - val_loss: 2.1488 - val_acc: 0.7405\n",
            "Epoch 9/10\n",
            "50000/50000 [==============================] - 39s 788us/step - loss: 0.5495 - acc: 0.8598 - val_loss: 2.4090 - val_acc: 0.7323\n",
            "Epoch 10/10\n",
            "50000/50000 [==============================] - 39s 786us/step - loss: 0.5965 - acc: 0.8557 - val_loss: 4.2536 - val_acc: 0.7319\n"
          ],
          "name": "stdout"
        }
      ]
    }
  ]
}